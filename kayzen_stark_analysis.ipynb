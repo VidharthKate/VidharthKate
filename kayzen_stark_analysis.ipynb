{
  "cells": [
    {
      "cell_type": "markdown",
      "metadata": {
        "id": "view-in-github",
        "colab_type": "text"
      },
      "source": [
        "<a href=\"https://colab.research.google.com/github/VidharthKate/VidharthKate/blob/main/kayzen_stark_analysis.ipynb\" target=\"_parent\"><img src=\"https://colab.research.google.com/assets/colab-badge.svg\" alt=\"Open In Colab\"/></a>"
      ]
    },
    {
      "cell_type": "code",
      "execution_count": null,
      "id": "c4681719",
      "metadata": {
        "id": "c4681719"
      },
      "outputs": [],
      "source": [
        "import numpy as np\n",
        "import pandas as pd\n",
        "from datetime import datetime\n",
        "import pycountry\n",
        "import matplotlib.pyplot as plt\n",
        "import seaborn as sns\n",
        "%matplotlib inline"
      ]
    },
    {
      "cell_type": "code",
      "execution_count": null,
      "id": "e32ec4e6",
      "metadata": {
        "id": "e32ec4e6",
        "outputId": "96eae216-1b99-4091-9001-afbd51c97553"
      },
      "outputs": [
        {
          "name": "stderr",
          "output_type": "stream",
          "text": [
            "C:\\ProgramData\\Anaconda3\\lib\\site-packages\\IPython\\core\\interactiveshell.py:3165: DtypeWarning: Columns (2) have mixed types.Specify dtype option on import or set low_memory=False.\n",
            "  has_raised = await self.run_ast_nodes(code_ast.body, cell_name,\n"
          ]
        }
      ],
      "source": [
        "impressions = pd.read_csv('stark_impressions.csv')\n",
        "clicks = pd.read_csv('stark_clicks.csv')\n",
        "installs = pd.read_csv('stark_installs.csv')\n",
        "country_namespace = pd.read_csv('country_mapping.csv')"
      ]
    },
    {
      "cell_type": "markdown",
      "id": "16d91df2-30af-4578-bf27-3168599f4894",
      "metadata": {
        "id": "16d91df2-30af-4578-bf27-3168599f4894"
      },
      "source": [
        "**After reviewing the data set, I decided to move with the cleaning process, which briefly will involve following steps:**\n",
        "    \n",
        "    1.\tNamespace mapping for country code: Since the impressions data set have ID as a key, it will be mapped using one function, and since the install data set have Alpha2 Code, it will use another part.\n",
        "    \n",
        "    2.\tNormalization: User ID across three data sources is different to merge the user-id for aggregation the normalization is needed.\n",
        "    \n",
        "    3.\tDealing with DateTime fields using the DateTime library."
      ]
    },
    {
      "cell_type": "code",
      "execution_count": null,
      "id": "81b03593",
      "metadata": {
        "id": "81b03593"
      },
      "outputs": [],
      "source": [
        "# normalizing the column names for convenient.\n",
        "country_namespace.columns = country_namespace.columns.str.replace(' ','_').str.lower()"
      ]
    },
    {
      "cell_type": "code",
      "execution_count": null,
      "id": "6571b8dc",
      "metadata": {
        "id": "6571b8dc"
      },
      "outputs": [],
      "source": [
        "'''\n",
        "To get alpha2 code of all the country name in country_namespace table\n",
        "for mapping it to install table which have alpha2 code instead of ID\n",
        "'''\n",
        "def getAlpha2Code(country_name):\n",
        "    '''\n",
        "    DOCSTRING: \n",
        "    The func will map alpha2 country code for the variable country_name pass with it.\n",
        "    For example: getAlpha2Code('United States') will give UN\n",
        "    '''\n",
        "    cc = []\n",
        "    try:\n",
        "        cc.append(pycountry.countries.search_fuzzy(country_name))\n",
        "    except:\n",
        "        if country_name == 'Null':\n",
        "            return('Null')\n",
        "        elif country_name == 'Unknown':\n",
        "            return('Unknown')\n",
        "    \n",
        "    for lst in cc:\n",
        "        return lst[0].alpha_2  "
      ]
    },
    {
      "cell_type": "code",
      "execution_count": null,
      "id": "689e3e80",
      "metadata": {
        "id": "689e3e80"
      },
      "outputs": [],
      "source": [
        "country_namespace['alpha2'] = country_namespace['country_name'].apply(lambda x: getAlpha2Code(x)) "
      ]
    },
    {
      "cell_type": "code",
      "execution_count": null,
      "id": "f9cf6038",
      "metadata": {
        "id": "f9cf6038"
      },
      "outputs": [],
      "source": [
        "nsalpha2 = country_namespace[['country_name','alpha2']].set_index('alpha2') #namespace for alpha2"
      ]
    },
    {
      "cell_type": "code",
      "execution_count": null,
      "id": "ea32974f",
      "metadata": {
        "id": "ea32974f"
      },
      "outputs": [],
      "source": [
        "nscountry = country_namespace[['req_country_id','country_name']].set_index('req_country_id') #namespace for country ID"
      ]
    },
    {
      "cell_type": "code",
      "execution_count": null,
      "id": "e3aa3e79",
      "metadata": {
        "id": "e3aa3e79"
      },
      "outputs": [],
      "source": [
        "def nsMapping(key,ns,value):\n",
        "    '''\n",
        "    DOCSTRING:\n",
        "    This small func will map namespace table to the column of the datasources.\n",
        "    key = namespace.key string value only\n",
        "    ns= namespace table table value can't be string.\n",
        "    value= namespace.value string value only\n",
        "    '''\n",
        "    try:\n",
        "        return ns.loc[key][value]\n",
        "    except:\n",
        "        return(key)"
      ]
    },
    {
      "cell_type": "code",
      "execution_count": null,
      "id": "fd0fa931",
      "metadata": {
        "id": "fd0fa931"
      },
      "outputs": [],
      "source": [
        "#lowering column name\n",
        "impressions.columns = impressions.columns.str.replace(' ','_').str.lower()"
      ]
    },
    {
      "cell_type": "code",
      "execution_count": null,
      "id": "0b8745a5",
      "metadata": {
        "id": "0b8745a5",
        "outputId": "14d5571f-1d2f-4a28-e6af-36d2f5f45697"
      },
      "outputs": [
        {
          "data": {
            "text/plain": [
              "req_country_id                                                    246\n",
              "raw_user_id               raw_id:A11F8505-010B-4479-9D15-8A56010E272E\n",
              "app_id                                                     1436008834\n",
              "exchange_id                                                        23\n",
              "device_os                                                          12\n",
              "campaign_id                                                    134686\n",
              "creative_id_1                                                50250936\n",
              "unique_id           200773481-1544766511-928-1-38-24-iw5CK-fa0d78f...\n",
              "epoch_timestamp                                            1544766534\n",
              "iab_category_id1                                                 11.0\n",
              "Name: 1, dtype: object"
            ]
          },
          "execution_count": 10,
          "metadata": {},
          "output_type": "execute_result"
        }
      ],
      "source": [
        "impressions.iloc[1]"
      ]
    },
    {
      "cell_type": "code",
      "execution_count": null,
      "id": "47bce31a",
      "metadata": {
        "id": "47bce31a",
        "outputId": "143806a7-363b-4430-9476-4358403b6d13"
      },
      "outputs": [
        {
          "data": {
            "text/plain": [
              "'74a0c6fc-f8c6-450e-87af-188bb71337e0'"
            ]
          },
          "execution_count": 11,
          "metadata": {},
          "output_type": "execute_result"
        }
      ],
      "source": [
        "#logic for normalizing raw_user_id to user_id\n",
        "impressions['raw_user_id'][0][7:].lower() "
      ]
    },
    {
      "cell_type": "code",
      "execution_count": null,
      "id": "d1b9557b",
      "metadata": {
        "id": "d1b9557b"
      },
      "outputs": [],
      "source": [
        "def clean_userid(df, column):\n",
        "    '''\n",
        "    DOCSTRING: clean_userid() func will return the list of user id which won't have raw_id append to it.\n",
        "    df = dataframe you want pass [do pass it as a string]\n",
        "    column: name of the column you want to normalize.\n",
        "    '''\n",
        "    normalize_data = []\n",
        "    for _ in df[column]:\n",
        "        normalize_data.append(_[7:].lower())\n",
        "    return normalize_data"
      ]
    },
    {
      "cell_type": "code",
      "execution_count": null,
      "id": "a900451f",
      "metadata": {
        "id": "a900451f"
      },
      "outputs": [],
      "source": [
        "impressions['user_id'] = clean_userid(impressions,'raw_user_id')"
      ]
    },
    {
      "cell_type": "code",
      "execution_count": null,
      "id": "ee81ab74",
      "metadata": {
        "id": "ee81ab74"
      },
      "outputs": [],
      "source": [
        "impressions['ts'] = pd.to_datetime(impressions['epoch_timestamp'],unit='s')"
      ]
    },
    {
      "cell_type": "code",
      "execution_count": null,
      "id": "1c26fc08",
      "metadata": {
        "id": "1c26fc08"
      },
      "outputs": [],
      "source": [
        "'''\n",
        "Cleaning process of the impressions table includes:\n",
        "1. Datetime field from epoch_timestamp.\n",
        "2. Country namespace mapping.\n",
        "3. Device namespace mapping.\n",
        "4. Normalization of User ID.\n",
        "'''\n",
        "impressions['date'] = impressions['ts'].apply(lambda x: x.date())\n",
        "impressions['date'] = pd.to_datetime(impressions['date'], format='%Y-%m-%d')\n",
        "impressions['hour'] = impressions['ts'].apply(lambda x: x.hour)\n",
        "impressions['country'] = impressions['req_country_id'].apply(lambda x: nsMapping(x,nscountry,'country_name'))\n",
        "impressions['device_os'] = impressions['device_os'].map({12:'ios',11:'android',0:'not available'})"
      ]
    },
    {
      "cell_type": "code",
      "execution_count": null,
      "id": "0ab2bab3",
      "metadata": {
        "id": "0ab2bab3"
      },
      "outputs": [],
      "source": [
        "clicks.columns = clicks.columns.str.replace(' ','_').str.lower()"
      ]
    },
    {
      "cell_type": "code",
      "execution_count": null,
      "id": "3d4956b4",
      "metadata": {
        "id": "3d4956b4"
      },
      "outputs": [],
      "source": [
        "'''\n",
        "Cleaning process of the clicks table includes:\n",
        "1. Datetime field from epoch_timestamp.\n",
        "2. Device namespace mapping.\n",
        "3. Normalization of User ID.\n",
        "'''\n",
        "clicks['ts'] = pd.to_datetime(clicks['epoch_timestamp'],unit='s')\n",
        "clicks['date'] = clicks['ts'].apply(lambda x: x.date())\n",
        "clicks['date'] = pd.to_datetime(clicks['date'], format='%Y-%m-%d')\n",
        "clicks['hour'] = clicks['ts'].apply(lambda x: x.hour)\n",
        "clicks['user_id'] = clicks['raw_user_id'].apply(lambda x:x.lower())"
      ]
    },
    {
      "cell_type": "code",
      "execution_count": null,
      "id": "2bb5cecb-5eaa-46c9-81b8-ee645f279158",
      "metadata": {
        "id": "2bb5cecb-5eaa-46c9-81b8-ee645f279158"
      },
      "outputs": [],
      "source": [
        "installs.columns = installs.columns.str.replace(' ','_').str.lower()"
      ]
    },
    {
      "cell_type": "code",
      "execution_count": null,
      "id": "871458e5",
      "metadata": {
        "id": "871458e5"
      },
      "outputs": [],
      "source": [
        "'''\n",
        "Cleaning process of the installs table includes:\n",
        "1. Datetime field from epoch_timestamp.\n",
        "2. Country namespace mapping.\n",
        "3. Device namespace mapping.\n",
        "4. Normalization of User ID.\n",
        "'''\n",
        "installs['ts'] = pd.to_datetime(clicks['epoch_timestamp'],unit='s')\n",
        "installs['date'] = clicks['ts'].apply(lambda x: x.date())\n",
        "installs['date'] = pd.to_datetime(clicks['date'], format='%Y-%m-%d')\n",
        "installs['hour'] = clicks['ts'].apply(lambda x: x.hour)\n",
        "installs['user_id'] = installs['raw_user_id'].astype(str).apply(lambda x: x.lower())\n",
        "installs['country'] = installs['country_code'].apply(lambda x: nsMapping(x,nsalpha2,'country_name')).apply(str)"
      ]
    },
    {
      "cell_type": "markdown",
      "id": "475d0c56-a57d-4fb8-b133-cee46ce658a3",
      "metadata": {
        "id": "475d0c56-a57d-4fb8-b133-cee46ce658a3"
      },
      "source": [
        "To start with analysis, I need to define the data frames which will give me aggregated data from all three tables. \n",
        "The Below code will assist me in having the aggregated data frames for performing the JOIN on them."
      ]
    },
    {
      "cell_type": "code",
      "execution_count": null,
      "id": "e2a5116d-6d23-482b-b953-c9c7232059e8",
      "metadata": {
        "id": "e2a5116d-6d23-482b-b953-c9c7232059e8"
      },
      "outputs": [],
      "source": [
        "imp_agg = impressions.groupby(['app_id', 'exchange_id', 'device_os', #----- Impressions agg dataframe\n",
        "       'campaign_id', 'creative_id_1', 'unique_id', 'date', 'hour',\n",
        "       'iab_category_id1', 'user_id', 'country'], dropna= False)\\\n",
        ".agg(impressions = ('unique_id','count')).reset_index()\n",
        "\n",
        "clicks_agg = clicks.groupby(['unique_id', 'date', 'hour','user_id'], dropna= False).agg( #----- Impressions agg dataframe\n",
        "    ad_clicks = ('unique_id','count')).reset_index()\n",
        "\n",
        "#----- Since installs needs to be filtered on valid unique id and can_claim. I am kayzen conversion as final install agg dataframe. \n",
        "installs = installs[(installs['is_valid_unique_id'] == 1) & (installs['can_claim'] == 1)]\\\n",
        "[['unique_id', 'country_code',\n",
        "       'raw_user_id', 'device_os', 'date', 'hour',\n",
        "       'user_id', 'country']]\n",
        "\n",
        "kayzen_conversion = installs.groupby(['unique_id', 'device_os', \n",
        "                                   'date', 'hour', 'user_id', 'country'],dropna = False)\\\n",
        ".agg(app_install = ('unique_id','count')).reset_index()"
      ]
    },
    {
      "cell_type": "code",
      "execution_count": null,
      "id": "56faedc4-bd47-47a7-8d0a-2ebe4a9a29f4",
      "metadata": {
        "id": "56faedc4-bd47-47a7-8d0a-2ebe4a9a29f4"
      },
      "outputs": [],
      "source": [
        "x = imp_agg.merge(clicks_agg,how='left',on='unique_id') #-----Joinng Impressions with Clicks \n",
        "y = x.merge(kayzen_conversion,how = 'left', on = 'unique_id') #-----Joinng Impressions+Clicks with Installs\n",
        "# dataframe 'y' will act as my final table for the analysis."
      ]
    },
    {
      "cell_type": "markdown",
      "id": "f26d2630-5142-41c3-bf53-3efe0767ddcf",
      "metadata": {
        "id": "f26d2630-5142-41c3-bf53-3efe0767ddcf"
      },
      "source": [
        "Since KPIs need to post aggregated I will using .eval function of the pandas every time to have post aggregated data.\n",
        "\n",
        "***Following KPIs are defined:***\n",
        "\n",
        "InstallsPerMile = (app_install / impressions) * 1000 – This metric will help us analyse the impression we have bought and its impact on our conversion. \n",
        "\n",
        "ConversionRate = (app_install/ad_clicks) *100 – This metric will assist us in understanding the conversion rate of the impression that we have bought.\n",
        "\n",
        "CTR = (ad_clicks / impressions) * 100 – This metric will support our ConversionRate by involving the clicks from the brought impressions - Click-through rate.\n"
      ]
    },
    {
      "cell_type": "markdown",
      "id": "81243b61-f75f-44b0-b9e5-4c87746b8574",
      "metadata": {
        "id": "81243b61-f75f-44b0-b9e5-4c87746b8574"
      },
      "source": [
        "Starting with analysing the **Campaign data** across the KPIs. \n",
        "\n",
        "_Below code out come will be Fig 1.2 in the word document._"
      ]
    },
    {
      "cell_type": "code",
      "execution_count": null,
      "id": "2299fc28-5e07-4e21-b2c7-6afe3cd1041e",
      "metadata": {
        "id": "2299fc28-5e07-4e21-b2c7-6afe3cd1041e"
      },
      "outputs": [],
      "source": [
        "campaign_performance = y.groupby(['campaign_id',]).agg({'impressions':'sum','ad_clicks':'sum','app_install':'sum'}).eval('''\n",
        "InstallsPerMile = (app_install/impressions)*1000 \n",
        "ConversionRate = (app_install/ad_clicks)*100\n",
        "CTR = (ad_clicks/impressions)*100\n",
        "''',inplace= False).sort_values(['ConversionRate','CTR','InstallsPerMile'],ascending=False)"
      ]
    },
    {
      "cell_type": "code",
      "execution_count": null,
      "id": "18a6e195-825c-4188-ae84-3ed38c4d2d68",
      "metadata": {
        "id": "18a6e195-825c-4188-ae84-3ed38c4d2d68",
        "outputId": "f72dafb8-dc30-4f00-8045-8e4761f4de60"
      },
      "outputs": [
        {
          "data": {
            "text/html": [
              "<div>\n",
              "<style scoped>\n",
              "    .dataframe tbody tr th:only-of-type {\n",
              "        vertical-align: middle;\n",
              "    }\n",
              "\n",
              "    .dataframe tbody tr th {\n",
              "        vertical-align: top;\n",
              "    }\n",
              "\n",
              "    .dataframe thead th {\n",
              "        text-align: right;\n",
              "    }\n",
              "</style>\n",
              "<table border=\"1\" class=\"dataframe\">\n",
              "  <thead>\n",
              "    <tr style=\"text-align: right;\">\n",
              "      <th></th>\n",
              "      <th>impressions</th>\n",
              "      <th>ad_clicks</th>\n",
              "      <th>app_install</th>\n",
              "      <th>ConversionRate</th>\n",
              "      <th>CTR</th>\n",
              "    </tr>\n",
              "    <tr>\n",
              "      <th>campaign_id</th>\n",
              "      <th></th>\n",
              "      <th></th>\n",
              "      <th></th>\n",
              "      <th></th>\n",
              "      <th></th>\n",
              "    </tr>\n",
              "  </thead>\n",
              "  <tbody>\n",
              "    <tr>\n",
              "      <th>134899</th>\n",
              "      <td>259</td>\n",
              "      <td>3.0</td>\n",
              "      <td>3.0</td>\n",
              "      <td>100.000000</td>\n",
              "      <td>1.158301</td>\n",
              "    </tr>\n",
              "    <tr>\n",
              "      <th>135098</th>\n",
              "      <td>31</td>\n",
              "      <td>3.0</td>\n",
              "      <td>2.0</td>\n",
              "      <td>66.666667</td>\n",
              "      <td>9.677419</td>\n",
              "    </tr>\n",
              "    <tr>\n",
              "      <th>134795</th>\n",
              "      <td>70809</td>\n",
              "      <td>2603.0</td>\n",
              "      <td>705.0</td>\n",
              "      <td>27.084134</td>\n",
              "      <td>3.676086</td>\n",
              "    </tr>\n",
              "    <tr>\n",
              "      <th>134686</th>\n",
              "      <td>2758</td>\n",
              "      <td>129.0</td>\n",
              "      <td>32.0</td>\n",
              "      <td>24.806202</td>\n",
              "      <td>4.677302</td>\n",
              "    </tr>\n",
              "    <tr>\n",
              "      <th>134288</th>\n",
              "      <td>37871</td>\n",
              "      <td>596.0</td>\n",
              "      <td>147.0</td>\n",
              "      <td>24.664430</td>\n",
              "      <td>1.573764</td>\n",
              "    </tr>\n",
              "    <tr>\n",
              "      <th>133830</th>\n",
              "      <td>7293</td>\n",
              "      <td>90.0</td>\n",
              "      <td>21.0</td>\n",
              "      <td>23.333333</td>\n",
              "      <td>1.234060</td>\n",
              "    </tr>\n",
              "    <tr>\n",
              "      <th>133535</th>\n",
              "      <td>245</td>\n",
              "      <td>13.0</td>\n",
              "      <td>3.0</td>\n",
              "      <td>23.076923</td>\n",
              "      <td>5.306122</td>\n",
              "    </tr>\n",
              "    <tr>\n",
              "      <th>134255</th>\n",
              "      <td>7491</td>\n",
              "      <td>292.0</td>\n",
              "      <td>50.0</td>\n",
              "      <td>17.123288</td>\n",
              "      <td>3.898011</td>\n",
              "    </tr>\n",
              "    <tr>\n",
              "      <th>134242</th>\n",
              "      <td>516</td>\n",
              "      <td>49.0</td>\n",
              "      <td>7.0</td>\n",
              "      <td>14.285714</td>\n",
              "      <td>9.496124</td>\n",
              "    </tr>\n",
              "    <tr>\n",
              "      <th>134105</th>\n",
              "      <td>10757</td>\n",
              "      <td>723.0</td>\n",
              "      <td>89.0</td>\n",
              "      <td>12.309820</td>\n",
              "      <td>6.721205</td>\n",
              "    </tr>\n",
              "  </tbody>\n",
              "</table>\n",
              "</div>"
            ],
            "text/plain": [
              "             impressions  ad_clicks  app_install  ConversionRate       CTR\n",
              "campaign_id                                                               \n",
              "134899               259        3.0          3.0      100.000000  1.158301\n",
              "135098                31        3.0          2.0       66.666667  9.677419\n",
              "134795             70809     2603.0        705.0       27.084134  3.676086\n",
              "134686              2758      129.0         32.0       24.806202  4.677302\n",
              "134288             37871      596.0        147.0       24.664430  1.573764\n",
              "133830              7293       90.0         21.0       23.333333  1.234060\n",
              "133535               245       13.0          3.0       23.076923  5.306122\n",
              "134255              7491      292.0         50.0       17.123288  3.898011\n",
              "134242               516       49.0          7.0       14.285714  9.496124\n",
              "134105             10757      723.0         89.0       12.309820  6.721205"
            ]
          },
          "execution_count": 23,
          "metadata": {},
          "output_type": "execute_result"
        },
        {
          "data": {
            "image/png": "[encoded data removed]",
            "text/plain": [
              "<Figure size 432x288 with 1 Axes>"
            ]
          },
          "metadata": {
            "needs_background": "light"
          },
          "output_type": "display_data"
        }
      ],
      "source": [
        "#Top performing campaigns filter-------------------------------------------------------------------------------\n",
        "campaign_performance[['ConversionRate']].sort_values(['ConversionRate'],ascending=False).head(10).boxplot() # boxplot for understanding the outliers.\n",
        "\n",
        "y.groupby(['campaign_id',]).agg({'impressions':'sum','ad_clicks':'sum','app_install':'sum'}).eval('''\n",
        "ConversionRate = (app_install/ad_clicks)*100\n",
        "CTR = (ad_clicks/impressions)*100\n",
        "''',inplace= False).sort_values(['ConversionRate','CTR'],ascending=False).head(10)"
      ]
    },
    {
      "cell_type": "code",
      "execution_count": null,
      "id": "a2a0bb4f-d9b8-4580-9dbd-ec648355b6da",
      "metadata": {
        "id": "a2a0bb4f-d9b8-4580-9dbd-ec648355b6da",
        "outputId": "24e193d8-f77e-4659-83b7-7c82dfdbca5d"
      },
      "outputs": [
        {
          "data": {
            "text/html": [
              "<div>\n",
              "<style scoped>\n",
              "    .dataframe tbody tr th:only-of-type {\n",
              "        vertical-align: middle;\n",
              "    }\n",
              "\n",
              "    .dataframe tbody tr th {\n",
              "        vertical-align: top;\n",
              "    }\n",
              "\n",
              "    .dataframe thead th {\n",
              "        text-align: right;\n",
              "    }\n",
              "</style>\n",
              "<table border=\"1\" class=\"dataframe\">\n",
              "  <thead>\n",
              "    <tr style=\"text-align: right;\">\n",
              "      <th></th>\n",
              "      <th>campaign_id</th>\n",
              "      <th>impressions</th>\n",
              "      <th>ad_clicks</th>\n",
              "      <th>app_install</th>\n",
              "      <th>ConversionRate</th>\n",
              "      <th>CTR</th>\n",
              "      <th>InstallsPerMile</th>\n",
              "    </tr>\n",
              "  </thead>\n",
              "  <tbody>\n",
              "    <tr>\n",
              "      <th>2</th>\n",
              "      <td>134795</td>\n",
              "      <td>70809</td>\n",
              "      <td>2603.0</td>\n",
              "      <td>705.0</td>\n",
              "      <td>27.084134</td>\n",
              "      <td>3.676086</td>\n",
              "      <td>9.956361</td>\n",
              "    </tr>\n",
              "    <tr>\n",
              "      <th>3</th>\n",
              "      <td>134686</td>\n",
              "      <td>2758</td>\n",
              "      <td>129.0</td>\n",
              "      <td>32.0</td>\n",
              "      <td>24.806202</td>\n",
              "      <td>4.677302</td>\n",
              "      <td>11.602611</td>\n",
              "    </tr>\n",
              "    <tr>\n",
              "      <th>4</th>\n",
              "      <td>134288</td>\n",
              "      <td>37871</td>\n",
              "      <td>596.0</td>\n",
              "      <td>147.0</td>\n",
              "      <td>24.664430</td>\n",
              "      <td>1.573764</td>\n",
              "      <td>3.881598</td>\n",
              "    </tr>\n",
              "    <tr>\n",
              "      <th>5</th>\n",
              "      <td>133830</td>\n",
              "      <td>7293</td>\n",
              "      <td>90.0</td>\n",
              "      <td>21.0</td>\n",
              "      <td>23.333333</td>\n",
              "      <td>1.234060</td>\n",
              "      <td>2.879473</td>\n",
              "    </tr>\n",
              "    <tr>\n",
              "      <th>6</th>\n",
              "      <td>133535</td>\n",
              "      <td>245</td>\n",
              "      <td>13.0</td>\n",
              "      <td>3.0</td>\n",
              "      <td>23.076923</td>\n",
              "      <td>5.306122</td>\n",
              "      <td>12.244898</td>\n",
              "    </tr>\n",
              "    <tr>\n",
              "      <th>7</th>\n",
              "      <td>134255</td>\n",
              "      <td>7491</td>\n",
              "      <td>292.0</td>\n",
              "      <td>50.0</td>\n",
              "      <td>17.123288</td>\n",
              "      <td>3.898011</td>\n",
              "      <td>6.674676</td>\n",
              "    </tr>\n",
              "    <tr>\n",
              "      <th>8</th>\n",
              "      <td>134242</td>\n",
              "      <td>516</td>\n",
              "      <td>49.0</td>\n",
              "      <td>7.0</td>\n",
              "      <td>14.285714</td>\n",
              "      <td>9.496124</td>\n",
              "      <td>13.565891</td>\n",
              "    </tr>\n",
              "    <tr>\n",
              "      <th>9</th>\n",
              "      <td>134105</td>\n",
              "      <td>10757</td>\n",
              "      <td>723.0</td>\n",
              "      <td>89.0</td>\n",
              "      <td>12.309820</td>\n",
              "      <td>6.721205</td>\n",
              "      <td>8.273682</td>\n",
              "    </tr>\n",
              "    <tr>\n",
              "      <th>10</th>\n",
              "      <td>133534</td>\n",
              "      <td>5852</td>\n",
              "      <td>245.0</td>\n",
              "      <td>30.0</td>\n",
              "      <td>12.244898</td>\n",
              "      <td>4.186603</td>\n",
              "      <td>5.126452</td>\n",
              "    </tr>\n",
              "    <tr>\n",
              "      <th>11</th>\n",
              "      <td>133500</td>\n",
              "      <td>669</td>\n",
              "      <td>58.0</td>\n",
              "      <td>7.0</td>\n",
              "      <td>12.068966</td>\n",
              "      <td>8.669656</td>\n",
              "      <td>10.463378</td>\n",
              "    </tr>\n",
              "    <tr>\n",
              "      <th>12</th>\n",
              "      <td>133586</td>\n",
              "      <td>1244</td>\n",
              "      <td>45.0</td>\n",
              "      <td>5.0</td>\n",
              "      <td>11.111111</td>\n",
              "      <td>3.617363</td>\n",
              "      <td>4.019293</td>\n",
              "    </tr>\n",
              "  </tbody>\n",
              "</table>\n",
              "</div>"
            ],
            "text/plain": [
              "    campaign_id  impressions  ad_clicks  app_install  ConversionRate  \\\n",
              "2        134795        70809     2603.0        705.0       27.084134   \n",
              "3        134686         2758      129.0         32.0       24.806202   \n",
              "4        134288        37871      596.0        147.0       24.664430   \n",
              "5        133830         7293       90.0         21.0       23.333333   \n",
              "6        133535          245       13.0          3.0       23.076923   \n",
              "7        134255         7491      292.0         50.0       17.123288   \n",
              "8        134242          516       49.0          7.0       14.285714   \n",
              "9        134105        10757      723.0         89.0       12.309820   \n",
              "10       133534         5852      245.0         30.0       12.244898   \n",
              "11       133500          669       58.0          7.0       12.068966   \n",
              "12       133586         1244       45.0          5.0       11.111111   \n",
              "\n",
              "         CTR  InstallsPerMile  \n",
              "2   3.676086         9.956361  \n",
              "3   4.677302        11.602611  \n",
              "4   1.573764         3.881598  \n",
              "5   1.234060         2.879473  \n",
              "6   5.306122        12.244898  \n",
              "7   3.898011         6.674676  \n",
              "8   9.496124        13.565891  \n",
              "9   6.721205         8.273682  \n",
              "10  4.186603         5.126452  \n",
              "11  8.669656        10.463378  \n",
              "12  3.617363         4.019293  "
            ]
          },
          "execution_count": 24,
          "metadata": {},
          "output_type": "execute_result"
        }
      ],
      "source": [
        "df = campaign_performance.reset_index()\n",
        "fill = [134899,135098] #excluding outliers from the KPI's\n",
        "top_campaign = df[(df['ConversionRate']>10) \n",
        "   & (~df['campaign_id'].isin(fill))][['campaign_id', 'impressions','ad_clicks','app_install','ConversionRate',\n",
        "                                       'CTR','InstallsPerMile']].sort_values('ConversionRate',ascending=False)\n",
        "\n",
        "top_campaign #-- Removing the outliers."
      ]
    },
    {
      "cell_type": "code",
      "execution_count": null,
      "id": "5099a911-7a42-49be-8390-a9ddcc6e7768",
      "metadata": {
        "id": "5099a911-7a42-49be-8390-a9ddcc6e7768",
        "outputId": "30caf115-938c-41c7-cf8a-c711941e96cf"
      },
      "outputs": [
        {
          "data": {
            "text/plain": [
              "Int64Index([134795, 134686, 134288, 133830, 133535, 134255, 134242, 134105,\n",
              "            133534, 133500, 133586],\n",
              "           dtype='int64', name='campaign_id')"
            ]
          },
          "execution_count": 25,
          "metadata": {},
          "output_type": "execute_result"
        }
      ],
      "source": [
        "'''\n",
        "This code will define a variable/filter top_campaign which I can access to analyse the performance of campaign on various segments.\n",
        "'''\n",
        "top_campaign_filter = df[(df['ConversionRate']>10) & (~df['campaign_id'].isin(fill))][['campaign_id']].set_index('campaign_id').index\n",
        "top_campaign_filter"
      ]
    },
    {
      "cell_type": "markdown",
      "id": "5eb98aaf-c676-4bec-bf47-354a8fa1aae3",
      "metadata": {
        "id": "5eb98aaf-c676-4bec-bf47-354a8fa1aae3"
      },
      "source": [
        "Passing top_campaign_filter to understand the hourly behaviour of the data.\n",
        "\n",
        "_Below code out come will be Fig 1.1 in the word document._"
      ]
    },
    {
      "cell_type": "code",
      "execution_count": null,
      "id": "de635854-609d-4055-92e6-6f2cb111f092",
      "metadata": {
        "id": "de635854-609d-4055-92e6-6f2cb111f092",
        "outputId": "9c651f72-a246-4ef4-8b5d-a2a82c45bcef"
      },
      "outputs": [
        {
          "data": {
            "text/plain": [
              "<matplotlib.legend.Legend at 0x21614cfb2b0>"
            ]
          },
          "execution_count": 26,
          "metadata": {},
          "output_type": "execute_result"
        },
        {
          "data": {
            "image/png": "[encoded data removed]",
            "text/plain": [
              "<Figure size 1152x288 with 1 Axes>"
            ]
          },
          "metadata": {
            "needs_background": "light"
          },
          "output_type": "display_data"
        }
      ],
      "source": [
        "#Passing top_campaign_filter to understand the hourly behaviour of the data.\n",
        "\n",
        "hr = y[y['campaign_id'].isin(top_campaign_filter)].groupby(['date_x',\n",
        "                                                            'hour_x','campaign_id']).\\\n",
        "agg({'impressions':'sum','ad_clicks':'sum','app_install':'sum'}).eval('''\n",
        "InstallsPerMile = (app_install/impressions)*1000 \n",
        "ConversionRate = (app_install/ad_clicks)*100\n",
        "CTR = (ad_clicks/impressions)*100\n",
        "''',inplace= False).sort_values(['impressions'],ascending=False).reset_index()\n",
        "\n",
        "#matplotlib OO method\n",
        "fig = plt.figure(figsize=(16,4))\n",
        "# Replace the agg metric to the desired one. Example 'impressions', 'ad_clicks'\n",
        "axes = fig.add_axes([0.1,0.1,0.8,0.8])\n",
        "axes.plot(hr[hr['date_x'] == '2018-12-18'].groupby(['hour_x']).agg({'ConversionRate':'sum'}),color='red',marker='o',label='18th Dec',lw=0.7,alpha=0.5,)\n",
        "axes.plot(hr[hr['date_x'] == '2018-12-17'].groupby(['hour_x']).agg({'ConversionRate':'sum'}),color='green',marker='o',label='17th Dec',linewidth=0.7)\n",
        "axes.plot(hr[hr['date_x'] == '2018-12-16'].groupby(['hour_x']).agg({'ConversionRate':'sum'}),color='blue',marker = 'o',label='16th Dec',linewidth=0.7,alpha=0.5)\n",
        "axes.plot(hr[hr['date_x'] == '2018-12-15'].groupby(['hour_x']).agg({'ConversionRate':'sum'}),color='magenta',marker = 'o',label='15th Dec',linewidth=0.7,alpha=0.5)\n",
        "axes.plot(hr[hr['date_x'] == '2018-12-14'].groupby(['hour_x']).agg({'ConversionRate':'sum'}),color='cyan',marker = 'o',label='14th Dec',linewidth=0.7,alpha=0.5)\n",
        "axes.set_xlim([0,23])\n",
        "axes.set_ylabel('Conversion %')\n",
        "axes.set_xlabel('Hour')\n",
        "axes.set_title('Day Wise Performance')\n",
        "axes.legend(loc=0)"
      ]
    },
    {
      "cell_type": "markdown",
      "id": "543d56ce-3fb6-4832-976b-cdc28a9d93de",
      "metadata": {
        "id": "543d56ce-3fb6-4832-976b-cdc28a9d93de"
      },
      "source": [
        "After analysing the campaign data. I have decided to analyse the creatives that is been served under the top performing campaign.\n",
        "\n",
        "While it will not only give the understanding of the creatives that as been served but also will help to analyse the KPIs.\n",
        "\n",
        "_Below code out come will be Fig 1.3 in the word document._"
      ]
    },
    {
      "cell_type": "code",
      "execution_count": null,
      "id": "41a2eafc-370f-403c-aa8e-3cd395c1a3f5",
      "metadata": {
        "id": "41a2eafc-370f-403c-aa8e-3cd395c1a3f5",
        "outputId": "84457342-5c5e-4430-c576-29029741caf5"
      },
      "outputs": [
        {
          "data": {
            "text/html": [
              "<div>\n",
              "<style scoped>\n",
              "    .dataframe tbody tr th:only-of-type {\n",
              "        vertical-align: middle;\n",
              "    }\n",
              "\n",
              "    .dataframe tbody tr th {\n",
              "        vertical-align: top;\n",
              "    }\n",
              "\n",
              "    .dataframe thead th {\n",
              "        text-align: right;\n",
              "    }\n",
              "</style>\n",
              "<table border=\"1\" class=\"dataframe\">\n",
              "  <thead>\n",
              "    <tr style=\"text-align: right;\">\n",
              "      <th></th>\n",
              "      <th>impressions</th>\n",
              "      <th>ad_clicks</th>\n",
              "      <th>app_install</th>\n",
              "      <th>InstallsPerMile</th>\n",
              "      <th>ConversionRate</th>\n",
              "      <th>CTR</th>\n",
              "    </tr>\n",
              "    <tr>\n",
              "      <th>creative_id_1</th>\n",
              "      <th></th>\n",
              "      <th></th>\n",
              "      <th></th>\n",
              "      <th></th>\n",
              "      <th></th>\n",
              "      <th></th>\n",
              "    </tr>\n",
              "  </thead>\n",
              "  <tbody>\n",
              "    <tr>\n",
              "      <th>50250934</th>\n",
              "      <td>330</td>\n",
              "      <td>36.0</td>\n",
              "      <td>6.0</td>\n",
              "      <td>18.181818</td>\n",
              "      <td>16.666667</td>\n",
              "      <td>10.909091</td>\n",
              "    </tr>\n",
              "    <tr>\n",
              "      <th>50253356</th>\n",
              "      <td>2524</td>\n",
              "      <td>270.0</td>\n",
              "      <td>17.0</td>\n",
              "      <td>6.735341</td>\n",
              "      <td>6.296296</td>\n",
              "      <td>10.697306</td>\n",
              "    </tr>\n",
              "    <tr>\n",
              "      <th>50250928</th>\n",
              "      <td>533</td>\n",
              "      <td>49.0</td>\n",
              "      <td>6.0</td>\n",
              "      <td>11.257036</td>\n",
              "      <td>12.244898</td>\n",
              "      <td>9.193246</td>\n",
              "    </tr>\n",
              "    <tr>\n",
              "      <th>50253358</th>\n",
              "      <td>5621</td>\n",
              "      <td>506.0</td>\n",
              "      <td>51.0</td>\n",
              "      <td>9.073119</td>\n",
              "      <td>10.079051</td>\n",
              "      <td>9.001957</td>\n",
              "    </tr>\n",
              "    <tr>\n",
              "      <th>50250938</th>\n",
              "      <td>276</td>\n",
              "      <td>20.0</td>\n",
              "      <td>5.0</td>\n",
              "      <td>18.115942</td>\n",
              "      <td>25.000000</td>\n",
              "      <td>7.246377</td>\n",
              "    </tr>\n",
              "    <tr>\n",
              "      <th>50253355</th>\n",
              "      <td>4020</td>\n",
              "      <td>155.0</td>\n",
              "      <td>27.0</td>\n",
              "      <td>6.716418</td>\n",
              "      <td>17.419355</td>\n",
              "      <td>3.855721</td>\n",
              "    </tr>\n",
              "    <tr>\n",
              "      <th>50253354</th>\n",
              "      <td>76481</td>\n",
              "      <td>2823.0</td>\n",
              "      <td>745.0</td>\n",
              "      <td>9.740981</td>\n",
              "      <td>26.390365</td>\n",
              "      <td>3.691113</td>\n",
              "    </tr>\n",
              "    <tr>\n",
              "      <th>50254304</th>\n",
              "      <td>732</td>\n",
              "      <td>26.0</td>\n",
              "      <td>4.0</td>\n",
              "      <td>5.464481</td>\n",
              "      <td>15.384615</td>\n",
              "      <td>3.551913</td>\n",
              "    </tr>\n",
              "    <tr>\n",
              "      <th>50250932</th>\n",
              "      <td>91</td>\n",
              "      <td>3.0</td>\n",
              "      <td>1.0</td>\n",
              "      <td>10.989011</td>\n",
              "      <td>33.333333</td>\n",
              "      <td>3.296703</td>\n",
              "    </tr>\n",
              "    <tr>\n",
              "      <th>50254305</th>\n",
              "      <td>2387</td>\n",
              "      <td>77.0</td>\n",
              "      <td>20.0</td>\n",
              "      <td>8.378718</td>\n",
              "      <td>25.974026</td>\n",
              "      <td>3.225806</td>\n",
              "    </tr>\n",
              "    <tr>\n",
              "      <th>50254303</th>\n",
              "      <td>2862</td>\n",
              "      <td>86.0</td>\n",
              "      <td>19.0</td>\n",
              "      <td>6.638714</td>\n",
              "      <td>22.093023</td>\n",
              "      <td>3.004892</td>\n",
              "    </tr>\n",
              "    <tr>\n",
              "      <th>50253353</th>\n",
              "      <td>1712</td>\n",
              "      <td>40.0</td>\n",
              "      <td>8.0</td>\n",
              "      <td>4.672897</td>\n",
              "      <td>20.000000</td>\n",
              "      <td>2.336449</td>\n",
              "    </tr>\n",
              "    <tr>\n",
              "      <th>50254334</th>\n",
              "      <td>175</td>\n",
              "      <td>4.0</td>\n",
              "      <td>1.0</td>\n",
              "      <td>5.714286</td>\n",
              "      <td>25.000000</td>\n",
              "      <td>2.285714</td>\n",
              "    </tr>\n",
              "    <tr>\n",
              "      <th>50250940</th>\n",
              "      <td>135</td>\n",
              "      <td>3.0</td>\n",
              "      <td>3.0</td>\n",
              "      <td>22.222222</td>\n",
              "      <td>100.000000</td>\n",
              "      <td>2.222222</td>\n",
              "    </tr>\n",
              "    <tr>\n",
              "      <th>50250929</th>\n",
              "      <td>275</td>\n",
              "      <td>6.0</td>\n",
              "      <td>4.0</td>\n",
              "      <td>14.545455</td>\n",
              "      <td>66.666667</td>\n",
              "      <td>2.181818</td>\n",
              "    </tr>\n",
              "    <tr>\n",
              "      <th>50254338</th>\n",
              "      <td>233</td>\n",
              "      <td>4.0</td>\n",
              "      <td>2.0</td>\n",
              "      <td>8.583691</td>\n",
              "      <td>50.000000</td>\n",
              "      <td>1.716738</td>\n",
              "    </tr>\n",
              "    <tr>\n",
              "      <th>50253086</th>\n",
              "      <td>18849</td>\n",
              "      <td>306.0</td>\n",
              "      <td>68.0</td>\n",
              "      <td>3.607618</td>\n",
              "      <td>22.222222</td>\n",
              "      <td>1.623428</td>\n",
              "    </tr>\n",
              "    <tr>\n",
              "      <th>50254336</th>\n",
              "      <td>256</td>\n",
              "      <td>4.0</td>\n",
              "      <td>2.0</td>\n",
              "      <td>7.812500</td>\n",
              "      <td>50.000000</td>\n",
              "      <td>1.562500</td>\n",
              "    </tr>\n",
              "    <tr>\n",
              "      <th>50250933</th>\n",
              "      <td>19117</td>\n",
              "      <td>290.0</td>\n",
              "      <td>79.0</td>\n",
              "      <td>4.132448</td>\n",
              "      <td>27.241379</td>\n",
              "      <td>1.516974</td>\n",
              "    </tr>\n",
              "    <tr>\n",
              "      <th>50245528</th>\n",
              "      <td>5456</td>\n",
              "      <td>68.0</td>\n",
              "      <td>18.0</td>\n",
              "      <td>3.299120</td>\n",
              "      <td>26.470588</td>\n",
              "      <td>1.246334</td>\n",
              "    </tr>\n",
              "    <tr>\n",
              "      <th>50245525</th>\n",
              "      <td>810</td>\n",
              "      <td>10.0</td>\n",
              "      <td>3.0</td>\n",
              "      <td>3.703704</td>\n",
              "      <td>30.000000</td>\n",
              "      <td>1.234568</td>\n",
              "    </tr>\n",
              "    <tr>\n",
              "      <th>50250935</th>\n",
              "      <td>187</td>\n",
              "      <td>2.0</td>\n",
              "      <td>2.0</td>\n",
              "      <td>10.695187</td>\n",
              "      <td>100.000000</td>\n",
              "      <td>1.069519</td>\n",
              "    </tr>\n",
              "  </tbody>\n",
              "</table>\n",
              "</div>"
            ],
            "text/plain": [
              "               impressions  ad_clicks  app_install  InstallsPerMile  \\\n",
              "creative_id_1                                                         \n",
              "50250934               330       36.0          6.0        18.181818   \n",
              "50253356              2524      270.0         17.0         6.735341   \n",
              "50250928               533       49.0          6.0        11.257036   \n",
              "50253358              5621      506.0         51.0         9.073119   \n",
              "50250938               276       20.0          5.0        18.115942   \n",
              "50253355              4020      155.0         27.0         6.716418   \n",
              "50253354             76481     2823.0        745.0         9.740981   \n",
              "50254304               732       26.0          4.0         5.464481   \n",
              "50250932                91        3.0          1.0        10.989011   \n",
              "50254305              2387       77.0         20.0         8.378718   \n",
              "50254303              2862       86.0         19.0         6.638714   \n",
              "50253353              1712       40.0          8.0         4.672897   \n",
              "50254334               175        4.0          1.0         5.714286   \n",
              "50250940               135        3.0          3.0        22.222222   \n",
              "50250929               275        6.0          4.0        14.545455   \n",
              "50254338               233        4.0          2.0         8.583691   \n",
              "50253086             18849      306.0         68.0         3.607618   \n",
              "50254336               256        4.0          2.0         7.812500   \n",
              "50250933             19117      290.0         79.0         4.132448   \n",
              "50245528              5456       68.0         18.0         3.299120   \n",
              "50245525               810       10.0          3.0         3.703704   \n",
              "50250935               187        2.0          2.0        10.695187   \n",
              "\n",
              "               ConversionRate        CTR  \n",
              "creative_id_1                             \n",
              "50250934            16.666667  10.909091  \n",
              "50253356             6.296296  10.697306  \n",
              "50250928            12.244898   9.193246  \n",
              "50253358            10.079051   9.001957  \n",
              "50250938            25.000000   7.246377  \n",
              "50253355            17.419355   3.855721  \n",
              "50253354            26.390365   3.691113  \n",
              "50254304            15.384615   3.551913  \n",
              "50250932            33.333333   3.296703  \n",
              "50254305            25.974026   3.225806  \n",
              "50254303            22.093023   3.004892  \n",
              "50253353            20.000000   2.336449  \n",
              "50254334            25.000000   2.285714  \n",
              "50250940           100.000000   2.222222  \n",
              "50250929            66.666667   2.181818  \n",
              "50254338            50.000000   1.716738  \n",
              "50253086            22.222222   1.623428  \n",
              "50254336            50.000000   1.562500  \n",
              "50250933            27.241379   1.516974  \n",
              "50245528            26.470588   1.246334  \n",
              "50245525            30.000000   1.234568  \n",
              "50250935           100.000000   1.069519  "
            ]
          },
          "execution_count": 27,
          "metadata": {},
          "output_type": "execute_result"
        },
        {
          "data": {
            "image/png": "[encoded data removed]",
            "text/plain": [
              "<Figure size 1152x360 with 1 Axes>"
            ]
          },
          "metadata": {
            "needs_background": "light"
          },
          "output_type": "display_data"
        }
      ],
      "source": [
        "top_creatives = y[(y['campaign_id'].isin(top_campaign_filter))].groupby(['creative_id_1']).\\\n",
        "agg({'impressions':'sum','ad_clicks':'sum','app_install':'sum'}).eval('''\n",
        "InstallsPerMile = (app_install/impressions)*1000 \n",
        "ConversionRate = (app_install/ad_clicks)*100\n",
        "CTR = (ad_clicks/impressions)*100\n",
        "''',inplace= False).sort_values(['impressions'],ascending=False)\n",
        "\n",
        "# Stacked barplot of the creatives.\n",
        "top_creatives[(top_creatives['ConversionRate']>0) & (top_creatives['CTR']>1)][['ConversionRate','CTR']].plot(kind='bar',figsize=(16,5),stacked=True) \n",
        "\n",
        "top_creatives[(top_creatives['ConversionRate']>0) & (top_creatives['CTR']>1)].sort_values(['CTR','ConversionRate'],ascending=False)"
      ]
    },
    {
      "cell_type": "markdown",
      "id": "7289c686-7125-4231-b984-eebe7fe4849d",
      "metadata": {
        "id": "7289c686-7125-4231-b984-eebe7fe4849d"
      },
      "source": [
        "Furthermore, It was necessary to define the geographic performance of Stark account campaigns.\n",
        "\n",
        "**It will help us understanding the regional performance of the top performing campaigns**\n",
        "\n",
        "Below code out come will be Fig 1.4 in the word document."
      ]
    },
    {
      "cell_type": "code",
      "execution_count": null,
      "id": "8ccaefe7-0f84-4fc2-8681-d15c72cc0d61",
      "metadata": {
        "id": "8ccaefe7-0f84-4fc2-8681-d15c72cc0d61",
        "outputId": "6da85ae3-88b7-4bd2-c3f9-0ec78db9015b"
      },
      "outputs": [
        {
          "data": {
            "text/html": [
              "<div>\n",
              "<style scoped>\n",
              "    .dataframe tbody tr th:only-of-type {\n",
              "        vertical-align: middle;\n",
              "    }\n",
              "\n",
              "    .dataframe tbody tr th {\n",
              "        vertical-align: top;\n",
              "    }\n",
              "\n",
              "    .dataframe thead th {\n",
              "        text-align: right;\n",
              "    }\n",
              "</style>\n",
              "<table border=\"1\" class=\"dataframe\">\n",
              "  <thead>\n",
              "    <tr style=\"text-align: right;\">\n",
              "      <th></th>\n",
              "      <th>country_x</th>\n",
              "      <th>impressions</th>\n",
              "      <th>ad_clicks</th>\n",
              "      <th>app_install</th>\n",
              "      <th>InstallsPerMile</th>\n",
              "      <th>ConversionRate</th>\n",
              "      <th>CTR</th>\n",
              "    </tr>\n",
              "  </thead>\n",
              "  <tbody>\n",
              "    <tr>\n",
              "      <th>0</th>\n",
              "      <td>United States</td>\n",
              "      <td>142844</td>\n",
              "      <td>4777.0</td>\n",
              "      <td>1078.0</td>\n",
              "      <td>7.546694</td>\n",
              "      <td>22.566464</td>\n",
              "      <td>3.344208</td>\n",
              "    </tr>\n",
              "    <tr>\n",
              "      <th>1</th>\n",
              "      <td>Germany</td>\n",
              "      <td>1526</td>\n",
              "      <td>23.0</td>\n",
              "      <td>5.0</td>\n",
              "      <td>3.276540</td>\n",
              "      <td>21.739130</td>\n",
              "      <td>1.507208</td>\n",
              "    </tr>\n",
              "    <tr>\n",
              "      <th>2</th>\n",
              "      <td>Canada</td>\n",
              "      <td>749</td>\n",
              "      <td>31.0</td>\n",
              "      <td>9.0</td>\n",
              "      <td>12.016021</td>\n",
              "      <td>29.032258</td>\n",
              "      <td>4.138852</td>\n",
              "    </tr>\n",
              "    <tr>\n",
              "      <th>3</th>\n",
              "      <td>Japan</td>\n",
              "      <td>94</td>\n",
              "      <td>6.0</td>\n",
              "      <td>0.0</td>\n",
              "      <td>0.000000</td>\n",
              "      <td>0.000000</td>\n",
              "      <td>6.382979</td>\n",
              "    </tr>\n",
              "    <tr>\n",
              "      <th>4</th>\n",
              "      <td>0</td>\n",
              "      <td>47</td>\n",
              "      <td>1.0</td>\n",
              "      <td>1.0</td>\n",
              "      <td>21.276596</td>\n",
              "      <td>100.000000</td>\n",
              "      <td>2.127660</td>\n",
              "    </tr>\n",
              "    <tr>\n",
              "      <th>5</th>\n",
              "      <td>Jordan</td>\n",
              "      <td>34</td>\n",
              "      <td>2.0</td>\n",
              "      <td>1.0</td>\n",
              "      <td>29.411765</td>\n",
              "      <td>50.000000</td>\n",
              "      <td>5.882353</td>\n",
              "    </tr>\n",
              "  </tbody>\n",
              "</table>\n",
              "</div>"
            ],
            "text/plain": [
              "       country_x  impressions  ad_clicks  app_install  InstallsPerMile  \\\n",
              "0  United States       142844     4777.0       1078.0         7.546694   \n",
              "1        Germany         1526       23.0          5.0         3.276540   \n",
              "2         Canada          749       31.0          9.0        12.016021   \n",
              "3          Japan           94        6.0          0.0         0.000000   \n",
              "4              0           47        1.0          1.0        21.276596   \n",
              "5         Jordan           34        2.0          1.0        29.411765   \n",
              "\n",
              "   ConversionRate       CTR  \n",
              "0       22.566464  3.344208  \n",
              "1       21.739130  1.507208  \n",
              "2       29.032258  4.138852  \n",
              "3        0.000000  6.382979  \n",
              "4      100.000000  2.127660  \n",
              "5       50.000000  5.882353  "
            ]
          },
          "execution_count": 28,
          "metadata": {},
          "output_type": "execute_result"
        },
        {
          "data": {
            "image/png": "[encoded data removed]",
            "text/plain": [
              "<Figure size 576x576 with 1 Axes>"
            ]
          },
          "metadata": {},
          "output_type": "display_data"
        }
      ],
      "source": [
        "top_region = y[y['campaign_id'].isin(top_campaign_filter)].groupby(['country_x']).agg({'impressions':'sum','ad_clicks':'sum','app_install':'sum'}).eval('''\n",
        "InstallsPerMile = (app_install/impressions)*1000 \n",
        "ConversionRate = (app_install/ad_clicks)*100\n",
        "CTR = (ad_clicks/impressions)*100\n",
        "''',inplace= False).sort_values(['impressions'],ascending=False).head(6)\n",
        "\n",
        "#Pie Chart\n",
        "top_region.groupby(['country_x']).agg({'ConversionRate':'sum'}).sort_values(by='ConversionRate',ascending = False).head(5).\\\n",
        "plot(y='ConversionRate',kind='pie',figsize=(8,8))\n",
        "plt.ylabel('% Conversion')\n",
        "\n",
        "#Table\n",
        "top_region.reset_index()"
      ]
    },
    {
      "cell_type": "markdown",
      "id": "6bce6aee-023d-4247-a824-a1b655053f9c",
      "metadata": {
        "id": "6bce6aee-023d-4247-a824-a1b655053f9c"
      },
      "source": [
        "In addition, it is crucial to understand the categories performance across the creatives to understand their performance with respect to creatives and KPIs.\n",
        "\n",
        "_Below code out come will be Fig 1.5 in the word document._\n"
      ]
    },
    {
      "cell_type": "code",
      "execution_count": null,
      "id": "02f609fe-9093-44a4-af4c-77bed41be318",
      "metadata": {
        "id": "02f609fe-9093-44a4-af4c-77bed41be318",
        "outputId": "04fdf6ef-87a1-498a-a8ef-61b53cd99a2d"
      },
      "outputs": [
        {
          "data": {
            "text/html": [
              "<style  type=\"text/css\" >\n",
              "#T_d2855_row0_col0,#T_d2855_row0_col1,#T_d2855_row0_col3,#T_d2855_row0_col4,#T_d2855_row0_col6,#T_d2855_row1_col0,#T_d2855_row1_col2,#T_d2855_row1_col3,#T_d2855_row1_col4,#T_d2855_row1_col5,#T_d2855_row1_col6,#T_d2855_row2_col0,#T_d2855_row2_col1,#T_d2855_row2_col3,#T_d2855_row2_col4,#T_d2855_row2_col5,#T_d2855_row2_col6,#T_d2855_row3_col0,#T_d2855_row3_col3,#T_d2855_row3_col4,#T_d2855_row3_col5,#T_d2855_row3_col6,#T_d2855_row4_col0,#T_d2855_row4_col1,#T_d2855_row5_col0,#T_d2855_row5_col2,#T_d2855_row5_col3,#T_d2855_row5_col4,#T_d2855_row5_col5,#T_d2855_row5_col6,#T_d2855_row6_col3,#T_d2855_row6_col4,#T_d2855_row6_col5,#T_d2855_row6_col6,#T_d2855_row7_col0,#T_d2855_row7_col2,#T_d2855_row7_col3,#T_d2855_row7_col4,#T_d2855_row7_col5,#T_d2855_row7_col6,#T_d2855_row8_col0,#T_d2855_row8_col2,#T_d2855_row8_col3,#T_d2855_row8_col4,#T_d2855_row8_col5,#T_d2855_row8_col6,#T_d2855_row9_col0,#T_d2855_row9_col2,#T_d2855_row9_col3,#T_d2855_row9_col4,#T_d2855_row9_col5,#T_d2855_row9_col6{\n",
              "            background-color:  #f7fbff;\n",
              "            color:  #000000;\n",
              "        }#T_d2855_row0_col2,#T_d2855_row4_col3,#T_d2855_row4_col4,#T_d2855_row4_col5,#T_d2855_row4_col6,#T_d2855_row6_col0,#T_d2855_row6_col1{\n",
              "            background-color:  #08306b;\n",
              "            color:  #f1f1f1;\n",
              "        }#T_d2855_row0_col5{\n",
              "            background-color:  #72b2d8;\n",
              "            color:  #000000;\n",
              "        }#T_d2855_row1_col1{\n",
              "            background-color:  #a5cde3;\n",
              "            color:  #000000;\n",
              "        }#T_d2855_row2_col2,#T_d2855_row6_col2{\n",
              "            background-color:  #77b5d9;\n",
              "            color:  #000000;\n",
              "        }#T_d2855_row3_col1{\n",
              "            background-color:  #3282be;\n",
              "            color:  #000000;\n",
              "        }#T_d2855_row3_col2{\n",
              "            background-color:  #b9d6ea;\n",
              "            color:  #000000;\n",
              "        }#T_d2855_row4_col2{\n",
              "            background-color:  #81badb;\n",
              "            color:  #000000;\n",
              "        }#T_d2855_row5_col1{\n",
              "            background-color:  #dfecf7;\n",
              "            color:  #000000;\n",
              "        }#T_d2855_row7_col1{\n",
              "            background-color:  #c3daee;\n",
              "            color:  #000000;\n",
              "        }#T_d2855_row8_col1{\n",
              "            background-color:  #5ca4d0;\n",
              "            color:  #000000;\n",
              "        }#T_d2855_row9_col1{\n",
              "            background-color:  #105ba4;\n",
              "            color:  #f1f1f1;\n",
              "        }</style><table id=\"T_d2855_\" ><thead>    <tr>        <th class=\"index_name level0\" >creative_id_1</th>        <th class=\"col_heading level0 col0\" >50245525</th>        <th class=\"col_heading level0 col1\" >50245528</th>        <th class=\"col_heading level0 col2\" >50253354</th>        <th class=\"col_heading level0 col3\" >50253355</th>        <th class=\"col_heading level0 col4\" >50253356</th>        <th class=\"col_heading level0 col5\" >50253358</th>        <th class=\"col_heading level0 col6\" >50254303</th>    </tr>    <tr>        <th class=\"index_name level0\" >iab_category_id1</th>        <th class=\"blank\" ></th>        <th class=\"blank\" ></th>        <th class=\"blank\" ></th>        <th class=\"blank\" ></th>        <th class=\"blank\" ></th>        <th class=\"blank\" ></th>        <th class=\"blank\" ></th>    </tr></thead><tbody>\n",
              "                <tr>\n",
              "                        <th id=\"T_d2855_level0_row0\" class=\"row_heading level0 row0\" >11.0</th>\n",
              "                        <td id=\"T_d2855_row0_col0\" class=\"data row0 col0\" >0.000000</td>\n",
              "                        <td id=\"T_d2855_row0_col1\" class=\"data row0 col1\" >0.000000</td>\n",
              "                        <td id=\"T_d2855_row0_col2\" class=\"data row0 col2\" >8.085106</td>\n",
              "                        <td id=\"T_d2855_row0_col3\" class=\"data row0 col3\" >0.000000</td>\n",
              "                        <td id=\"T_d2855_row0_col4\" class=\"data row0 col4\" >0.000000</td>\n",
              "                        <td id=\"T_d2855_row0_col5\" class=\"data row0 col5\" >7.179487</td>\n",
              "                        <td id=\"T_d2855_row0_col6\" class=\"data row0 col6\" >0.000000</td>\n",
              "            </tr>\n",
              "            <tr>\n",
              "                        <th id=\"T_d2855_level0_row1\" class=\"row_heading level0 row1\" >17.0</th>\n",
              "                        <td id=\"T_d2855_row1_col0\" class=\"data row1 col0\" >0.000000</td>\n",
              "                        <td id=\"T_d2855_row1_col1\" class=\"data row1 col1\" >0.684932</td>\n",
              "                        <td id=\"T_d2855_row1_col2\" class=\"data row1 col2\" >0.000000</td>\n",
              "                        <td id=\"T_d2855_row1_col3\" class=\"data row1 col3\" >0.000000</td>\n",
              "                        <td id=\"T_d2855_row1_col4\" class=\"data row1 col4\" >0.000000</td>\n",
              "                        <td id=\"T_d2855_row1_col5\" class=\"data row1 col5\" >0.000000</td>\n",
              "                        <td id=\"T_d2855_row1_col6\" class=\"data row1 col6\" >0.000000</td>\n",
              "            </tr>\n",
              "            <tr>\n",
              "                        <th id=\"T_d2855_level0_row2\" class=\"row_heading level0 row2\" >43.0</th>\n",
              "                        <td id=\"T_d2855_row2_col0\" class=\"data row2 col0\" >0.000000</td>\n",
              "                        <td id=\"T_d2855_row2_col1\" class=\"data row2 col1\" >0.000000</td>\n",
              "                        <td id=\"T_d2855_row2_col2\" class=\"data row2 col2\" >3.797468</td>\n",
              "                        <td id=\"T_d2855_row2_col3\" class=\"data row2 col3\" >0.000000</td>\n",
              "                        <td id=\"T_d2855_row2_col4\" class=\"data row2 col4\" >0.000000</td>\n",
              "                        <td id=\"T_d2855_row2_col5\" class=\"data row2 col5\" >0.000000</td>\n",
              "                        <td id=\"T_d2855_row2_col6\" class=\"data row2 col6\" >0.000000</td>\n",
              "            </tr>\n",
              "            <tr>\n",
              "                        <th id=\"T_d2855_level0_row3\" class=\"row_heading level0 row3\" >84.0</th>\n",
              "                        <td id=\"T_d2855_row3_col0\" class=\"data row3 col0\" >0.000000</td>\n",
              "                        <td id=\"T_d2855_row3_col1\" class=\"data row3 col1\" >1.327434</td>\n",
              "                        <td id=\"T_d2855_row3_col2\" class=\"data row3 col2\" >2.347418</td>\n",
              "                        <td id=\"T_d2855_row3_col3\" class=\"data row3 col3\" >0.000000</td>\n",
              "                        <td id=\"T_d2855_row3_col4\" class=\"data row3 col4\" >0.000000</td>\n",
              "                        <td id=\"T_d2855_row3_col5\" class=\"data row3 col5\" >0.000000</td>\n",
              "                        <td id=\"T_d2855_row3_col6\" class=\"data row3 col6\" >0.000000</td>\n",
              "            </tr>\n",
              "            <tr>\n",
              "                        <th id=\"T_d2855_level0_row4\" class=\"row_heading level0 row4\" >157.0</th>\n",
              "                        <td id=\"T_d2855_row4_col0\" class=\"data row4 col0\" >0.000000</td>\n",
              "                        <td id=\"T_d2855_row4_col1\" class=\"data row4 col1\" >0.000000</td>\n",
              "                        <td id=\"T_d2855_row4_col2\" class=\"data row4 col2\" >3.605578</td>\n",
              "                        <td id=\"T_d2855_row4_col3\" class=\"data row4 col3\" >9.584665</td>\n",
              "                        <td id=\"T_d2855_row4_col4\" class=\"data row4 col4\" >14.733542</td>\n",
              "                        <td id=\"T_d2855_row4_col5\" class=\"data row4 col5\" >14.837153</td>\n",
              "                        <td id=\"T_d2855_row4_col6\" class=\"data row4 col6\" >4.296875</td>\n",
              "            </tr>\n",
              "            <tr>\n",
              "                        <th id=\"T_d2855_level0_row5\" class=\"row_heading level0 row5\" >162.0</th>\n",
              "                        <td id=\"T_d2855_row5_col0\" class=\"data row5 col0\" >0.000000</td>\n",
              "                        <td id=\"T_d2855_row5_col1\" class=\"data row5 col1\" >0.230415</td>\n",
              "                        <td id=\"T_d2855_row5_col2\" class=\"data row5 col2\" >0.000000</td>\n",
              "                        <td id=\"T_d2855_row5_col3\" class=\"data row5 col3\" >0.000000</td>\n",
              "                        <td id=\"T_d2855_row5_col4\" class=\"data row5 col4\" >0.000000</td>\n",
              "                        <td id=\"T_d2855_row5_col5\" class=\"data row5 col5\" >0.000000</td>\n",
              "                        <td id=\"T_d2855_row5_col6\" class=\"data row5 col6\" >0.000000</td>\n",
              "            </tr>\n",
              "            <tr>\n",
              "                        <th id=\"T_d2855_level0_row6\" class=\"row_heading level0 row6\" >187.0</th>\n",
              "                        <td id=\"T_d2855_row6_col0\" class=\"data row6 col0\" >1.420455</td>\n",
              "                        <td id=\"T_d2855_row6_col1\" class=\"data row6 col1\" >1.939744</td>\n",
              "                        <td id=\"T_d2855_row6_col2\" class=\"data row6 col2\" >3.800298</td>\n",
              "                        <td id=\"T_d2855_row6_col3\" class=\"data row6 col3\" >0.000000</td>\n",
              "                        <td id=\"T_d2855_row6_col4\" class=\"data row6 col4\" >0.000000</td>\n",
              "                        <td id=\"T_d2855_row6_col5\" class=\"data row6 col5\" >0.000000</td>\n",
              "                        <td id=\"T_d2855_row6_col6\" class=\"data row6 col6\" >0.000000</td>\n",
              "            </tr>\n",
              "            <tr>\n",
              "                        <th id=\"T_d2855_level0_row7\" class=\"row_heading level0 row7\" >222.0</th>\n",
              "                        <td id=\"T_d2855_row7_col0\" class=\"data row7 col0\" >0.000000</td>\n",
              "                        <td id=\"T_d2855_row7_col1\" class=\"data row7 col1\" >0.505051</td>\n",
              "                        <td id=\"T_d2855_row7_col2\" class=\"data row7 col2\" >0.000000</td>\n",
              "                        <td id=\"T_d2855_row7_col3\" class=\"data row7 col3\" >0.000000</td>\n",
              "                        <td id=\"T_d2855_row7_col4\" class=\"data row7 col4\" >0.000000</td>\n",
              "                        <td id=\"T_d2855_row7_col5\" class=\"data row7 col5\" >0.000000</td>\n",
              "                        <td id=\"T_d2855_row7_col6\" class=\"data row7 col6\" >0.000000</td>\n",
              "            </tr>\n",
              "            <tr>\n",
              "                        <th id=\"T_d2855_level0_row8\" class=\"row_heading level0 row8\" >325.0</th>\n",
              "                        <td id=\"T_d2855_row8_col0\" class=\"data row8 col0\" >0.000000</td>\n",
              "                        <td id=\"T_d2855_row8_col1\" class=\"data row8 col1\" >1.055409</td>\n",
              "                        <td id=\"T_d2855_row8_col2\" class=\"data row8 col2\" >0.000000</td>\n",
              "                        <td id=\"T_d2855_row8_col3\" class=\"data row8 col3\" >0.000000</td>\n",
              "                        <td id=\"T_d2855_row8_col4\" class=\"data row8 col4\" >0.000000</td>\n",
              "                        <td id=\"T_d2855_row8_col5\" class=\"data row8 col5\" >0.000000</td>\n",
              "                        <td id=\"T_d2855_row8_col6\" class=\"data row8 col6\" >0.000000</td>\n",
              "            </tr>\n",
              "            <tr>\n",
              "                        <th id=\"T_d2855_level0_row9\" class=\"row_heading level0 row9\" >387.0</th>\n",
              "                        <td id=\"T_d2855_row9_col0\" class=\"data row9 col0\" >0.000000</td>\n",
              "                        <td id=\"T_d2855_row9_col1\" class=\"data row9 col1\" >1.619433</td>\n",
              "                        <td id=\"T_d2855_row9_col2\" class=\"data row9 col2\" >0.000000</td>\n",
              "                        <td id=\"T_d2855_row9_col3\" class=\"data row9 col3\" >0.000000</td>\n",
              "                        <td id=\"T_d2855_row9_col4\" class=\"data row9 col4\" >0.000000</td>\n",
              "                        <td id=\"T_d2855_row9_col5\" class=\"data row9 col5\" >0.000000</td>\n",
              "                        <td id=\"T_d2855_row9_col6\" class=\"data row9 col6\" >0.000000</td>\n",
              "            </tr>\n",
              "    </tbody></table>"
            ],
            "text/plain": [
              "<pandas.io.formats.style.Styler at 0x216084b56a0>"
            ]
          },
          "execution_count": 29,
          "metadata": {},
          "output_type": "execute_result"
        }
      ],
      "source": [
        "top_categories = y[(y['campaign_id'].isin(top_campaign_filter))].groupby(['iab_category_id1','creative_id_1']).\\\n",
        "agg({'impressions':'sum','ad_clicks':'sum'}).eval('''\n",
        "CTR = (ad_clicks/impressions)*100\n",
        "''',inplace= False).sort_values(['impressions'],ascending=False).reset_index().head(20)\n",
        "df = top_categories.pivot(index='iab_category_id1',columns='creative_id_1',values='CTR').fillna(0)\n",
        "df.style.background_gradient(cmap='Blues')"
      ]
    },
    {
      "cell_type": "markdown",
      "id": "0d603c57-2ce4-4907-aa2c-6250b17d73a5",
      "metadata": {
        "id": "0d603c57-2ce4-4907-aa2c-6250b17d73a5"
      },
      "source": [
        "Although, it is important to carry out analysis for top performing entities, it is also of utmost importance to understand the negative aspect of it.\n",
        "\n",
        "These four campaigns are undoubtedly consuming our lot money on impressions. ***With average 0.7 Installs per mile impression, and Conversion Rate of 2.4(average) these Campaign are needed to be optimize or have a closer look on it.***\n",
        "\n",
        "_Below code out come will be Fig 1.6 in the word document._"
      ]
    },
    {
      "cell_type": "code",
      "execution_count": null,
      "id": "3a971170-12aa-49e0-bebf-ed1267287eca",
      "metadata": {
        "id": "3a971170-12aa-49e0-bebf-ed1267287eca",
        "outputId": "df7352c9-9117-4315-8582-27162afe9b46"
      },
      "outputs": [
        {
          "data": {
            "text/html": [
              "<div>\n",
              "<style scoped>\n",
              "    .dataframe tbody tr th:only-of-type {\n",
              "        vertical-align: middle;\n",
              "    }\n",
              "\n",
              "    .dataframe tbody tr th {\n",
              "        vertical-align: top;\n",
              "    }\n",
              "\n",
              "    .dataframe thead th {\n",
              "        text-align: right;\n",
              "    }\n",
              "</style>\n",
              "<table border=\"1\" class=\"dataframe\">\n",
              "  <thead>\n",
              "    <tr style=\"text-align: right;\">\n",
              "      <th></th>\n",
              "      <th>impressions</th>\n",
              "      <th>ad_clicks</th>\n",
              "      <th>app_install</th>\n",
              "      <th>InstallsPerMile</th>\n",
              "      <th>ConversionRate</th>\n",
              "      <th>CTR</th>\n",
              "    </tr>\n",
              "    <tr>\n",
              "      <th>campaign_id</th>\n",
              "      <th></th>\n",
              "      <th></th>\n",
              "      <th></th>\n",
              "      <th></th>\n",
              "      <th></th>\n",
              "      <th></th>\n",
              "    </tr>\n",
              "  </thead>\n",
              "  <tbody>\n",
              "    <tr>\n",
              "      <th>135018</th>\n",
              "      <td>23263</td>\n",
              "      <td>160.0</td>\n",
              "      <td>2.0</td>\n",
              "      <td>0.085973</td>\n",
              "      <td>1.250000</td>\n",
              "      <td>0.687787</td>\n",
              "    </tr>\n",
              "    <tr>\n",
              "      <th>134047</th>\n",
              "      <td>60668</td>\n",
              "      <td>2922.0</td>\n",
              "      <td>49.0</td>\n",
              "      <td>0.807675</td>\n",
              "      <td>1.676934</td>\n",
              "      <td>4.816378</td>\n",
              "    </tr>\n",
              "    <tr>\n",
              "      <th>133833</th>\n",
              "      <td>24595</td>\n",
              "      <td>973.0</td>\n",
              "      <td>22.0</td>\n",
              "      <td>0.894491</td>\n",
              "      <td>2.261048</td>\n",
              "      <td>3.956089</td>\n",
              "    </tr>\n",
              "    <tr>\n",
              "      <th>132889</th>\n",
              "      <td>20706</td>\n",
              "      <td>421.0</td>\n",
              "      <td>20.0</td>\n",
              "      <td>0.965904</td>\n",
              "      <td>4.750594</td>\n",
              "      <td>2.033227</td>\n",
              "    </tr>\n",
              "  </tbody>\n",
              "</table>\n",
              "</div>"
            ],
            "text/plain": [
              "             impressions  ad_clicks  app_install  InstallsPerMile  \\\n",
              "campaign_id                                                         \n",
              "135018             23263      160.0          2.0         0.085973   \n",
              "134047             60668     2922.0         49.0         0.807675   \n",
              "133833             24595      973.0         22.0         0.894491   \n",
              "132889             20706      421.0         20.0         0.965904   \n",
              "\n",
              "             ConversionRate       CTR  \n",
              "campaign_id                            \n",
              "135018             1.250000  0.687787  \n",
              "134047             1.676934  4.816378  \n",
              "133833             2.261048  3.956089  \n",
              "132889             4.750594  2.033227  "
            ]
          },
          "execution_count": 30,
          "metadata": {},
          "output_type": "execute_result"
        },
        {
          "data": {
            "image/png": "[encoded data removed]",
            "text/plain": [
              "<Figure size 720x288 with 1 Axes>"
            ]
          },
          "metadata": {
            "needs_background": "light"
          },
          "output_type": "display_data"
        }
      ],
      "source": [
        "#Low performing campaigns -------------------------------------------------------------------\n",
        "campaign_performance[(campaign_performance['impressions']>= 10000) \n",
        "                     & (campaign_performance['ConversionRate']<10)][['ConversionRate','CTR']].sort_values('ConversionRate',ascending=True).\\\n",
        "plot(figsize=(10,4),kind='bar',stacked=True)\n",
        "\n",
        "campaign_performance[(campaign_performance['impressions']>= 10000) \n",
        "                     &(campaign_performance['ConversionRate']<10)]\\\n",
        ".sort_values('ConversionRate',ascending=True)"
      ]
    },
    {
      "cell_type": "markdown",
      "id": "4b63701a-c2e8-44f4-91c2-8805403b2596",
      "metadata": {
        "id": "4b63701a-c2e8-44f4-91c2-8805403b2596"
      },
      "source": [
        "Finally, when it comes to analysing the frequency caps I decided to move with the bucketization.\n",
        "\n",
        "I have introduce a column called frquency cap to understand the behavior of the KPIs with respect to the impression got from single ID.\n",
        "\n",
        "The idea was to group by the bucket on the various KPIs.\n",
        "\n",
        "_Below code out come will be Fig 1.7 in the word document._"
      ]
    },
    {
      "cell_type": "code",
      "execution_count": null,
      "id": "e70b9c79-66f7-4880-866e-997f2d3d28f3",
      "metadata": {
        "id": "e70b9c79-66f7-4880-866e-997f2d3d28f3"
      },
      "outputs": [],
      "source": [
        "y['frequencyCap'] = pd.cut(y.groupby('user_id_x').agg({'impressions':'sum'}).reset_index()['impressions'],60895,duplicates='drop')"
      ]
    },
    {
      "cell_type": "code",
      "execution_count": null,
      "id": "3cc31c18-03e4-49ca-8b3d-f85a400d38f2",
      "metadata": {
        "id": "3cc31c18-03e4-49ca-8b3d-f85a400d38f2"
      },
      "outputs": [],
      "source": [
        ""
      ]
    },
    {
      "cell_type": "code",
      "execution_count": null,
      "id": "39b3077e-7aa3-4da1-b28a-02c4692c696e",
      "metadata": {
        "id": "39b3077e-7aa3-4da1-b28a-02c4692c696e"
      },
      "outputs": [],
      "source": [
        ""
      ]
    },
    {
      "cell_type": "code",
      "execution_count": null,
      "id": "7ae3e807-3eeb-40d9-ab12-134b98de6f18",
      "metadata": {
        "id": "7ae3e807-3eeb-40d9-ab12-134b98de6f18",
        "outputId": "c6e3db0f-37d5-4af2-8fd0-691242bc4343"
      },
      "outputs": [
        {
          "data": {
            "text/plain": [
              "<AxesSubplot:ylabel='frequencyCap'>"
            ]
          },
          "execution_count": 32,
          "metadata": {},
          "output_type": "execute_result"
        },
        {
          "data": {
            "image/png": "[encoded data removed]",
            "text/plain": [
              "<Figure size 1080x576 with 1 Axes>"
            ]
          },
          "metadata": {
            "needs_background": "light"
          },
          "output_type": "display_data"
        }
      ],
      "source": [
        "ibucket = y.groupby(['frequencyCap']).agg({'impressions':'sum','ad_clicks':'sum','app_install':'sum'})\\\n",
        ".eval('''\n",
        "InstallsPerMile = (app_install/impressions)*1000 \n",
        "ConversionRate = (app_install/ad_clicks)*100\n",
        "CTR = (ad_clicks/impressions)*100\n",
        "''',inplace= False).sort_values('impressions',ascending=False).reset_index()\n",
        "# ibucket[ibucket['ConversionRate']>5]\n",
        "ibucket[['frequencyCap','ConversionRate']].head(10).plot.barh(figsize=(15,8),x='frequencyCap',y='ConversionRate')"
      ]
    }
  ],
  "metadata": {
    "kernelspec": {
      "display_name": "Python 3",
      "language": "python",
      "name": "python3"
    },
    "language_info": {
      "codemirror_mode": {
        "name": "ipython",
        "version": 3
      },
      "file_extension": ".py",
      "mimetype": "text/x-python",
      "name": "python",
      "nbconvert_exporter": "python",
      "pygments_lexer": "ipython3",
      "version": "3.8.8"
    },
    "colab": {
      "name": "kayzen_stark_analysis.ipynb",
      "provenance": [],
      "include_colab_link": true
    }
  },
  "nbformat": 4,
  "nbformat_minor": 5
}